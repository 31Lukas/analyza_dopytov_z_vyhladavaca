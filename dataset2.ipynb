{
 "cells": [
  {
   "cell_type": "code",
   "execution_count": 1,
   "metadata": {},
   "outputs": [
    {
     "name": "stdout",
     "output_type": "stream",
     "text": [
      "Requirement already satisfied: pandas in ./venv/lib64/python3.11/site-packages (2.0.0)\n",
      "Requirement already satisfied: nltk in ./venv/lib64/python3.11/site-packages (3.8.1)\n",
      "Requirement already satisfied: python-dateutil>=2.8.2 in ./venv/lib64/python3.11/site-packages (from pandas) (2.8.2)\n",
      "Requirement already satisfied: pytz>=2020.1 in ./venv/lib64/python3.11/site-packages (from pandas) (2023.3)\n",
      "Requirement already satisfied: tzdata>=2022.1 in ./venv/lib64/python3.11/site-packages (from pandas) (2023.3)\n",
      "Requirement already satisfied: numpy>=1.21.0 in ./venv/lib64/python3.11/site-packages (from pandas) (1.24.2)\n",
      "Requirement already satisfied: click in ./venv/lib64/python3.11/site-packages (from nltk) (8.1.3)\n",
      "Requirement already satisfied: joblib in ./venv/lib64/python3.11/site-packages (from nltk) (1.2.0)\n",
      "Requirement already satisfied: regex>=2021.8.3 in ./venv/lib64/python3.11/site-packages (from nltk) (2023.3.23)\n",
      "Requirement already satisfied: tqdm in ./venv/lib64/python3.11/site-packages (from nltk) (4.65.0)\n",
      "Requirement already satisfied: six>=1.5 in ./venv/lib64/python3.11/site-packages (from python-dateutil>=2.8.2->pandas) (1.16.0)\n",
      "Note: you may need to restart the kernel to use updated packages.\n"
     ]
    }
   ],
   "source": [
    "%pip install pandas nltk"
   ]
  },
  {
   "cell_type": "code",
   "execution_count": 10,
   "metadata": {},
   "outputs": [
    {
     "data": {
      "text/html": [
       "<div>\n",
       "<style scoped>\n",
       "    .dataframe tbody tr th:only-of-type {\n",
       "        vertical-align: middle;\n",
       "    }\n",
       "\n",
       "    .dataframe tbody tr th {\n",
       "        vertical-align: top;\n",
       "    }\n",
       "\n",
       "    .dataframe thead th {\n",
       "        text-align: right;\n",
       "    }\n",
       "</style>\n",
       "<table border=\"1\" class=\"dataframe\">\n",
       "  <thead>\n",
       "    <tr style=\"text-align: right;\">\n",
       "      <th></th>\n",
       "      <th>Unnamed: 0</th>\n",
       "      <th>title</th>\n",
       "      <th>text</th>\n",
       "      <th>subcategory</th>\n",
       "      <th>label</th>\n",
       "    </tr>\n",
       "  </thead>\n",
       "  <tbody>\n",
       "    <tr>\n",
       "      <th>0</th>\n",
       "      <td>0</td>\n",
       "      <td>FACEBOOK DELETES MICHIGAN ANTI-LOCKDOWN GROUP ...</td>\n",
       "      <td>Facebook has shuttered a popular group for Mic...</td>\n",
       "      <td>false news</td>\n",
       "      <td>0</td>\n",
       "    </tr>\n",
       "    <tr>\n",
       "      <th>1</th>\n",
       "      <td>1</td>\n",
       "      <td>Other Viewpoints: COVID-19 is worse than the flu</td>\n",
       "      <td>We can now officially put to rest all comparis...</td>\n",
       "      <td>true</td>\n",
       "      <td>1</td>\n",
       "    </tr>\n",
       "    <tr>\n",
       "      <th>2</th>\n",
       "      <td>2</td>\n",
       "      <td>Bermuda's COVID-19 cases surpass 100</td>\n",
       "      <td>The Ministry of Health in Bermuda has confirme...</td>\n",
       "      <td>true</td>\n",
       "      <td>1</td>\n",
       "    </tr>\n",
       "    <tr>\n",
       "      <th>3</th>\n",
       "      <td>3</td>\n",
       "      <td>Purdue University says students face 'close to...</td>\n",
       "      <td>Purdue University President Mitch Daniels, the...</td>\n",
       "      <td>partially false</td>\n",
       "      <td>0</td>\n",
       "    </tr>\n",
       "    <tr>\n",
       "      <th>4</th>\n",
       "      <td>4</td>\n",
       "      <td>THE HIGH COST OF LOCKING DOWN AMERICA: “WE’VE ...</td>\n",
       "      <td>Locking down much of the country may have help...</td>\n",
       "      <td>false news</td>\n",
       "      <td>0</td>\n",
       "    </tr>\n",
       "  </tbody>\n",
       "</table>\n",
       "</div>"
      ],
      "text/plain": [
       "   Unnamed: 0                                              title   \n",
       "0           0  FACEBOOK DELETES MICHIGAN ANTI-LOCKDOWN GROUP ...  \\\n",
       "1           1   Other Viewpoints: COVID-19 is worse than the flu   \n",
       "2           2               Bermuda's COVID-19 cases surpass 100   \n",
       "3           3  Purdue University says students face 'close to...   \n",
       "4           4  THE HIGH COST OF LOCKING DOWN AMERICA: “WE’VE ...   \n",
       "\n",
       "                                                text      subcategory  label  \n",
       "0  Facebook has shuttered a popular group for Mic...       false news      0  \n",
       "1  We can now officially put to rest all comparis...             true      1  \n",
       "2  The Ministry of Health in Bermuda has confirme...             true      1  \n",
       "3  Purdue University President Mitch Daniels, the...  partially false      0  \n",
       "4  Locking down much of the country may have help...       false news      0  "
      ]
     },
     "execution_count": 10,
     "metadata": {},
     "output_type": "execute_result"
    }
   ],
   "source": [
    "import pandas as pd\n",
    "\n",
    "df = pd.read_excel('data/fake_new_dataset.xlsx')\n",
    "df.head()"
   ]
  },
  {
   "cell_type": "code",
   "execution_count": 11,
   "metadata": {},
   "outputs": [],
   "source": [
    "df = df.query('label == 1')\n",
    "df['title_plus_texts'] = df['title'] + ' ' + df['text']\n",
    "df['title_plus_texts'] = df['title_plus_texts'].str.strip()\n",
    "\n",
    "df = df[['title', 'text', 'title_plus_texts']]"
   ]
  },
  {
   "cell_type": "code",
   "execution_count": 6,
   "metadata": {},
   "outputs": [
    {
     "data": {
      "text/html": [
       "<style type=\"text/css\">\n",
       "</style>\n",
       "<table id=\"T_5f222\">\n",
       "  <thead>\n",
       "    <tr>\n",
       "      <th id=\"T_5f222_level0_col0\" class=\"col_heading level0 col0\" ></th>\n",
       "      <th id=\"T_5f222_level0_col1\" class=\"col_heading level0 col1\" >Titles</th>\n",
       "      <th id=\"T_5f222_level0_col2\" class=\"col_heading level0 col2\" >Texts</th>\n",
       "      <th id=\"T_5f222_level0_col3\" class=\"col_heading level0 col3\" >Titles + texts</th>\n",
       "    </tr>\n",
       "  </thead>\n",
       "  <tbody>\n",
       "    <tr>\n",
       "      <td id=\"T_5f222_row0_col0\" class=\"data row0 col0\" >Pocet viet</td>\n",
       "      <td id=\"T_5f222_row0_col1\" class=\"data row0 col1\" >2070.000000</td>\n",
       "      <td id=\"T_5f222_row0_col2\" class=\"data row0 col2\" >38935.000000</td>\n",
       "      <td id=\"T_5f222_row0_col3\" class=\"data row0 col3\" >41005.000000</td>\n",
       "    </tr>\n",
       "    <tr>\n",
       "      <td id=\"T_5f222_row1_col0\" class=\"data row1 col0\" >Pocet slov</td>\n",
       "      <td id=\"T_5f222_row1_col1\" class=\"data row1 col1\" >21672.000000</td>\n",
       "      <td id=\"T_5f222_row1_col2\" class=\"data row1 col2\" >948675.000000</td>\n",
       "      <td id=\"T_5f222_row1_col3\" class=\"data row1 col3\" >970347.000000</td>\n",
       "    </tr>\n",
       "    <tr>\n",
       "      <td id=\"T_5f222_row2_col0\" class=\"data row2 col0\" >Pocet tokenov</td>\n",
       "      <td id=\"T_5f222_row2_col1\" class=\"data row2 col1\" >24592.000000</td>\n",
       "      <td id=\"T_5f222_row2_col2\" class=\"data row2 col2\" >1050538.000000</td>\n",
       "      <td id=\"T_5f222_row2_col3\" class=\"data row2 col3\" >1075130.000000</td>\n",
       "    </tr>\n",
       "    <tr>\n",
       "      <td id=\"T_5f222_row3_col0\" class=\"data row3 col0\" >Priemerna dlzka vety</td>\n",
       "      <td id=\"T_5f222_row3_col1\" class=\"data row3 col1\" >10.469565</td>\n",
       "      <td id=\"T_5f222_row3_col2\" class=\"data row3 col2\" >24.365609</td>\n",
       "      <td id=\"T_5f222_row3_col3\" class=\"data row3 col3\" >23.664114</td>\n",
       "    </tr>\n",
       "    <tr>\n",
       "      <td id=\"T_5f222_row4_col0\" class=\"data row4 col0\" >Priemerna dlzka slova</td>\n",
       "      <td id=\"T_5f222_row4_col1\" class=\"data row4 col1\" >5.151347</td>\n",
       "      <td id=\"T_5f222_row4_col2\" class=\"data row4 col2\" >4.953995</td>\n",
       "      <td id=\"T_5f222_row4_col3\" class=\"data row4 col3\" >4.958403</td>\n",
       "    </tr>\n",
       "  </tbody>\n",
       "</table>\n"
      ],
      "text/plain": [
       "<pandas.io.formats.style.Styler at 0x7f041c2fcc50>"
      ]
     },
     "execution_count": 6,
     "metadata": {},
     "output_type": "execute_result"
    }
   ],
   "source": [
    "import nltk\n",
    "from nltk.tokenize import RegexpTokenizer\n",
    "tokenizer = RegexpTokenizer(r'\\w+')\n",
    "\n",
    "titles = df['title'].str.cat(sep='. ')\n",
    "texts = df['text'].str.cat(sep=' ')\n",
    "titles_plus_texts = df['title_plus_texts'].str.cat(sep=' ')\n",
    "\n",
    "pocet_viet_titles = len(nltk.sent_tokenize(titles))\n",
    "pocet_viet_texts = len(nltk.sent_tokenize(texts))\n",
    "\n",
    "pocet_tokenov_titles = len(nltk.word_tokenize(titles))\n",
    "pocet_tokenov_texts = len(nltk.word_tokenize(texts))\n",
    "\n",
    "titles_words = tokenizer.tokenize(titles)\n",
    "texts_words = tokenizer.tokenize(texts)\n",
    "\n",
    "pocet_slov_titles = len(titles_words)\n",
    "pocet_slov_texts = len(texts_words)\n",
    "\n",
    "pocet_pismen_titles = len(\"\".join(titles_words))\n",
    "pocet_pismen_texts = len(\"\".join(texts_words))\n",
    "\n",
    "mydfdata = [\n",
    "    ('Pocet viet', pocet_viet_titles, pocet_viet_texts, pocet_viet_titles + pocet_viet_texts),\n",
    "    ('Pocet slov', pocet_slov_titles, pocet_slov_texts, pocet_slov_titles + pocet_slov_texts),\n",
    "    ('Pocet tokenov', pocet_tokenov_titles, pocet_tokenov_texts, pocet_tokenov_titles + pocet_tokenov_texts),\n",
    "    ('Priemerna dlzka vety', pocet_slov_titles / pocet_viet_titles, pocet_slov_texts / pocet_viet_texts, (pocet_slov_titles + pocet_slov_texts) / (pocet_viet_titles + pocet_viet_texts)),\n",
    "    ('Priemerna dlzka slova', pocet_pismen_titles / pocet_slov_titles, pocet_pismen_texts / pocet_slov_texts, (pocet_pismen_titles + pocet_pismen_texts) / (pocet_slov_titles + pocet_slov_texts)),\n",
    "    ]\n",
    "\n",
    "mydf = pd.DataFrame(mydfdata, columns=['', 'Titles', 'Texts', 'Titles + texts'])\n",
    "mydf.style.hide()"
   ]
  }
 ],
 "metadata": {
  "kernelspec": {
   "display_name": "venv",
   "language": "python",
   "name": "python3"
  },
  "language_info": {
   "codemirror_mode": {
    "name": "ipython",
    "version": 3
   },
   "file_extension": ".py",
   "mimetype": "text/x-python",
   "name": "python",
   "nbconvert_exporter": "python",
   "pygments_lexer": "ipython3",
   "version": "3.11.2"
  },
  "orig_nbformat": 4
 },
 "nbformat": 4,
 "nbformat_minor": 2
}
