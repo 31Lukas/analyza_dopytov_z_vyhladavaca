{
 "cells": [
  {
   "cell_type": "code",
   "execution_count": 3,
   "metadata": {},
   "outputs": [
    {
     "name": "stdout",
     "output_type": "stream",
     "text": [
      "Requirement already satisfied: keybert in ./venv/lib64/python3.11/site-packages (0.7.0)\n",
      "Requirement already satisfied: sentence-transformers in ./venv/lib64/python3.11/site-packages (2.2.2)\n",
      "Requirement already satisfied: pandas in ./venv/lib64/python3.11/site-packages (2.0.0)\n",
      "Requirement already satisfied: scikit-learn>=0.22.2 in ./venv/lib64/python3.11/site-packages (from keybert) (1.2.2)\n",
      "Requirement already satisfied: numpy>=1.18.5 in ./venv/lib64/python3.11/site-packages (from keybert) (1.24.2)\n",
      "Requirement already satisfied: rich>=10.4.0 in ./venv/lib64/python3.11/site-packages (from keybert) (13.3.3)\n",
      "Requirement already satisfied: transformers<5.0.0,>=4.6.0 in ./venv/lib64/python3.11/site-packages (from sentence-transformers) (4.27.4)\n",
      "Requirement already satisfied: tqdm in ./venv/lib64/python3.11/site-packages (from sentence-transformers) (4.65.0)\n",
      "Requirement already satisfied: torch>=1.6.0 in ./venv/lib64/python3.11/site-packages (from sentence-transformers) (2.0.0)\n",
      "Requirement already satisfied: torchvision in ./venv/lib64/python3.11/site-packages (from sentence-transformers) (0.15.1)\n",
      "Requirement already satisfied: scipy in ./venv/lib64/python3.11/site-packages (from sentence-transformers) (1.10.1)\n",
      "Requirement already satisfied: nltk in ./venv/lib64/python3.11/site-packages (from sentence-transformers) (3.8.1)\n",
      "Requirement already satisfied: sentencepiece in ./venv/lib64/python3.11/site-packages (from sentence-transformers) (0.1.97)\n",
      "Requirement already satisfied: huggingface-hub>=0.4.0 in ./venv/lib64/python3.11/site-packages (from sentence-transformers) (0.13.4)\n",
      "Requirement already satisfied: python-dateutil>=2.8.2 in ./venv/lib64/python3.11/site-packages (from pandas) (2.8.2)\n",
      "Requirement already satisfied: pytz>=2020.1 in ./venv/lib64/python3.11/site-packages (from pandas) (2023.3)\n",
      "Requirement already satisfied: tzdata>=2022.1 in ./venv/lib64/python3.11/site-packages (from pandas) (2023.3)\n",
      "Requirement already satisfied: filelock in ./venv/lib64/python3.11/site-packages (from huggingface-hub>=0.4.0->sentence-transformers) (3.11.0)\n",
      "Requirement already satisfied: requests in ./venv/lib64/python3.11/site-packages (from huggingface-hub>=0.4.0->sentence-transformers) (2.28.2)\n",
      "Requirement already satisfied: pyyaml>=5.1 in ./venv/lib64/python3.11/site-packages (from huggingface-hub>=0.4.0->sentence-transformers) (6.0)\n",
      "Requirement already satisfied: typing-extensions>=3.7.4.3 in ./venv/lib64/python3.11/site-packages (from huggingface-hub>=0.4.0->sentence-transformers) (4.5.0)\n",
      "Requirement already satisfied: packaging>=20.9 in ./venv/lib64/python3.11/site-packages (from huggingface-hub>=0.4.0->sentence-transformers) (23.0)\n",
      "Requirement already satisfied: six>=1.5 in ./venv/lib64/python3.11/site-packages (from python-dateutil>=2.8.2->pandas) (1.16.0)\n",
      "Requirement already satisfied: markdown-it-py<3.0.0,>=2.2.0 in ./venv/lib64/python3.11/site-packages (from rich>=10.4.0->keybert) (2.2.0)\n",
      "Requirement already satisfied: pygments<3.0.0,>=2.13.0 in ./venv/lib64/python3.11/site-packages (from rich>=10.4.0->keybert) (2.14.0)\n",
      "Requirement already satisfied: joblib>=1.1.1 in ./venv/lib64/python3.11/site-packages (from scikit-learn>=0.22.2->keybert) (1.2.0)\n",
      "Requirement already satisfied: threadpoolctl>=2.0.0 in ./venv/lib64/python3.11/site-packages (from scikit-learn>=0.22.2->keybert) (3.1.0)\n",
      "Requirement already satisfied: sympy in ./venv/lib64/python3.11/site-packages (from torch>=1.6.0->sentence-transformers) (1.11.1)\n",
      "Requirement already satisfied: networkx in ./venv/lib64/python3.11/site-packages (from torch>=1.6.0->sentence-transformers) (3.1)\n",
      "Requirement already satisfied: jinja2 in ./venv/lib64/python3.11/site-packages (from torch>=1.6.0->sentence-transformers) (3.1.2)\n",
      "Requirement already satisfied: nvidia-cuda-nvrtc-cu11==11.7.99 in ./venv/lib64/python3.11/site-packages (from torch>=1.6.0->sentence-transformers) (11.7.99)\n",
      "Requirement already satisfied: nvidia-cuda-runtime-cu11==11.7.99 in ./venv/lib64/python3.11/site-packages (from torch>=1.6.0->sentence-transformers) (11.7.99)\n",
      "Requirement already satisfied: nvidia-cuda-cupti-cu11==11.7.101 in ./venv/lib64/python3.11/site-packages (from torch>=1.6.0->sentence-transformers) (11.7.101)\n",
      "Requirement already satisfied: nvidia-cudnn-cu11==8.5.0.96 in ./venv/lib64/python3.11/site-packages (from torch>=1.6.0->sentence-transformers) (8.5.0.96)\n",
      "Requirement already satisfied: nvidia-cublas-cu11==11.10.3.66 in ./venv/lib64/python3.11/site-packages (from torch>=1.6.0->sentence-transformers) (11.10.3.66)\n",
      "Requirement already satisfied: nvidia-cufft-cu11==10.9.0.58 in ./venv/lib64/python3.11/site-packages (from torch>=1.6.0->sentence-transformers) (10.9.0.58)\n",
      "Requirement already satisfied: nvidia-curand-cu11==10.2.10.91 in ./venv/lib64/python3.11/site-packages (from torch>=1.6.0->sentence-transformers) (10.2.10.91)\n",
      "Requirement already satisfied: nvidia-cusolver-cu11==11.4.0.1 in ./venv/lib64/python3.11/site-packages (from torch>=1.6.0->sentence-transformers) (11.4.0.1)\n",
      "Requirement already satisfied: nvidia-cusparse-cu11==11.7.4.91 in ./venv/lib64/python3.11/site-packages (from torch>=1.6.0->sentence-transformers) (11.7.4.91)\n",
      "Requirement already satisfied: nvidia-nccl-cu11==2.14.3 in ./venv/lib64/python3.11/site-packages (from torch>=1.6.0->sentence-transformers) (2.14.3)\n",
      "Requirement already satisfied: nvidia-nvtx-cu11==11.7.91 in ./venv/lib64/python3.11/site-packages (from torch>=1.6.0->sentence-transformers) (11.7.91)\n",
      "Requirement already satisfied: triton==2.0.0 in ./venv/lib64/python3.11/site-packages (from torch>=1.6.0->sentence-transformers) (2.0.0)\n",
      "Requirement already satisfied: setuptools in ./venv/lib64/python3.11/site-packages (from nvidia-cublas-cu11==11.10.3.66->torch>=1.6.0->sentence-transformers) (62.6.0)\n",
      "Requirement already satisfied: wheel in ./venv/lib64/python3.11/site-packages (from nvidia-cublas-cu11==11.10.3.66->torch>=1.6.0->sentence-transformers) (0.40.0)\n",
      "Requirement already satisfied: cmake in ./venv/lib64/python3.11/site-packages (from triton==2.0.0->torch>=1.6.0->sentence-transformers) (3.26.3)\n",
      "Requirement already satisfied: lit in ./venv/lib64/python3.11/site-packages (from triton==2.0.0->torch>=1.6.0->sentence-transformers) (16.0.1)\n",
      "Requirement already satisfied: regex!=2019.12.17 in ./venv/lib64/python3.11/site-packages (from transformers<5.0.0,>=4.6.0->sentence-transformers) (2023.3.23)\n",
      "Requirement already satisfied: tokenizers!=0.11.3,<0.14,>=0.11.1 in ./venv/lib64/python3.11/site-packages (from transformers<5.0.0,>=4.6.0->sentence-transformers) (0.13.3)\n",
      "Requirement already satisfied: click in ./venv/lib64/python3.11/site-packages (from nltk->sentence-transformers) (8.1.3)\n",
      "Requirement already satisfied: pillow!=8.3.*,>=5.3.0 in ./venv/lib64/python3.11/site-packages (from torchvision->sentence-transformers) (9.5.0)\n",
      "Requirement already satisfied: mdurl~=0.1 in ./venv/lib64/python3.11/site-packages (from markdown-it-py<3.0.0,>=2.2.0->rich>=10.4.0->keybert) (0.1.2)\n",
      "Requirement already satisfied: MarkupSafe>=2.0 in ./venv/lib64/python3.11/site-packages (from jinja2->torch>=1.6.0->sentence-transformers) (2.1.2)\n",
      "Requirement already satisfied: charset-normalizer<4,>=2 in ./venv/lib64/python3.11/site-packages (from requests->huggingface-hub>=0.4.0->sentence-transformers) (3.1.0)\n",
      "Requirement already satisfied: idna<4,>=2.5 in ./venv/lib64/python3.11/site-packages (from requests->huggingface-hub>=0.4.0->sentence-transformers) (3.4)\n",
      "Requirement already satisfied: urllib3<1.27,>=1.21.1 in ./venv/lib64/python3.11/site-packages (from requests->huggingface-hub>=0.4.0->sentence-transformers) (1.26.15)\n",
      "Requirement already satisfied: certifi>=2017.4.17 in ./venv/lib64/python3.11/site-packages (from requests->huggingface-hub>=0.4.0->sentence-transformers) (2022.12.7)\n",
      "Requirement already satisfied: mpmath>=0.19 in ./venv/lib64/python3.11/site-packages (from sympy->torch>=1.6.0->sentence-transformers) (1.3.0)\n",
      "Note: you may need to restart the kernel to use updated packages.\n"
     ]
    }
   ],
   "source": [
    "%pip install keybert sentence-transformers pandas"
   ]
  },
  {
   "cell_type": "code",
   "execution_count": 26,
   "metadata": {},
   "outputs": [
    {
     "name": "stderr",
     "output_type": "stream",
     "text": [
      "[nltk_data] Downloading package stopwords to /home/godric/nltk_data...\n",
      "[nltk_data]   Package stopwords is already up-to-date!\n"
     ]
    }
   ],
   "source": [
    "from keybert import KeyBERT\n",
    "import pandas as pd\n",
    "import nltk\n",
    "nltk.download('stopwords')\n",
    "from nltk.corpus import stopwords\n",
    "from sentence_transformers import SentenceTransformer"
   ]
  },
  {
   "cell_type": "code",
   "execution_count": 58,
   "metadata": {},
   "outputs": [],
   "source": [
    "# Nacitame si vstupny dataset - pouzijeme len c\n",
    "df = pd.read_csv('data/COVID-19_Vaccine.csv', usecols=[2, 3], nrows=1)\n",
    "df['texts'] = df['ArticleTitle'] + df['ArticleText']\n",
    "df = df.drop(columns=[\"ArticleTitle\", \"ArticleText\"])\n",
    "\n",
    "df['texts'] = (\n",
    "    df['texts']\n",
    "    .str.strip()\n",
    "    .str.lower()\n",
    ")\n",
    "\n",
    "sentence_model = SentenceTransformer(\"all-MiniLM-L6-v2\")\n",
    "kw_model = KeyBERT(model=sentence_model)\n",
    "\n",
    "stop_words = stopwords.words('english') + ['covid', 'coronavirus', 'corona', '19']"
   ]
  },
  {
   "cell_type": "code",
   "execution_count": 66,
   "metadata": {},
   "outputs": [
    {
     "data": {
      "text/plain": [
       "[('children risk measles', 0.6051),\n",
       " ('disruptive outbreaks many', 0.6107),\n",
       " ('vaccinations 2020 organizations', 0.6111)]"
      ]
     },
     "execution_count": 66,
     "metadata": {},
     "output_type": "execute_result"
    }
   ],
   "source": [
    "text = df.iloc[0]['texts']\n",
    "\n",
    "kw_model.extract_keywords(text, keyphrase_ngram_range=(2, 3), stop_words=stop_words,\n",
    "                          use_maxsum=True, diversity=0.7,\n",
    "                          top_n=3)"
   ]
  },
  {
   "cell_type": "code",
   "execution_count": null,
   "metadata": {},
   "outputs": [],
   "source": [
    "# df.iloc[0]['keywords']\n",
    "\n",
    "# df['keywords'] = (\n",
    "#     df['texts']\n",
    "#     .apply(lambda x: kw_model.extract_keywords(x, keyphrase_ngram_range=(2, 3), stop_words=stop_words,\n",
    "#                                                use_mmr=True, diversity=0.2,\n",
    "#                                                top_n=3))\n",
    "# )\n",
    "\n",
    "# df.iloc[0]['keywords']"
   ]
  }
 ],
 "metadata": {
  "kernelspec": {
   "display_name": "venv",
   "language": "python",
   "name": "python3"
  },
  "language_info": {
   "codemirror_mode": {
    "name": "ipython",
    "version": 3
   },
   "file_extension": ".py",
   "mimetype": "text/x-python",
   "name": "python",
   "nbconvert_exporter": "python",
   "pygments_lexer": "ipython3",
   "version": "3.11.2"
  },
  "orig_nbformat": 4
 },
 "nbformat": 4,
 "nbformat_minor": 2
}
